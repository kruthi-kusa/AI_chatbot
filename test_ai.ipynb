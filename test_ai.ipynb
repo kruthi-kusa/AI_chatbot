{
 "cells": [
  {
   "cell_type": "code",
   "execution_count": 1,
   "id": "a0d0e909-faa1-4f36-8f31-01b6514dea1a",
   "metadata": {},
   "outputs": [
    {
     "name": "stdout",
     "output_type": "stream",
     "text": [
      "Requirement already satisfied: numpy in c:\\users\\kruth\\anaconda3\\lib\\site-packages (1.26.4)\n",
      "Note: you may need to restart the kernel to use updated packages.\n"
     ]
    }
   ],
   "source": [
    "pip install numpy\n"
   ]
  },
  {
   "cell_type": "code",
   "execution_count": 3,
   "id": "2ab29c46-e17b-4bc9-9c7c-19d4dc29299d",
   "metadata": {},
   "outputs": [
    {
     "name": "stdout",
     "output_type": "stream",
     "text": [
      "Collecting transformers\n",
      "  Downloading transformers-4.48.1-py3-none-any.whl.metadata (44 kB)\n",
      "Requirement already satisfied: filelock in c:\\users\\kruth\\anaconda3\\lib\\site-packages (from transformers) (3.13.1)\n",
      "Collecting huggingface-hub<1.0,>=0.24.0 (from transformers)\n",
      "  Downloading huggingface_hub-0.27.1-py3-none-any.whl.metadata (13 kB)\n",
      "Requirement already satisfied: numpy>=1.17 in c:\\users\\kruth\\anaconda3\\lib\\site-packages (from transformers) (1.26.4)\n",
      "Requirement already satisfied: packaging>=20.0 in c:\\users\\kruth\\anaconda3\\lib\\site-packages (from transformers) (24.1)\n",
      "Requirement already satisfied: pyyaml>=5.1 in c:\\users\\kruth\\anaconda3\\lib\\site-packages (from transformers) (6.0.1)\n",
      "Requirement already satisfied: regex!=2019.12.17 in c:\\users\\kruth\\anaconda3\\lib\\site-packages (from transformers) (2024.9.11)\n",
      "Requirement already satisfied: requests in c:\\users\\kruth\\anaconda3\\lib\\site-packages (from transformers) (2.32.3)\n",
      "Collecting tokenizers<0.22,>=0.21 (from transformers)\n",
      "  Downloading tokenizers-0.21.0-cp39-abi3-win_amd64.whl.metadata (6.9 kB)\n",
      "Collecting safetensors>=0.4.1 (from transformers)\n",
      "  Downloading safetensors-0.5.2-cp38-abi3-win_amd64.whl.metadata (3.9 kB)\n",
      "Requirement already satisfied: tqdm>=4.27 in c:\\users\\kruth\\anaconda3\\lib\\site-packages (from transformers) (4.66.5)\n",
      "Requirement already satisfied: fsspec>=2023.5.0 in c:\\users\\kruth\\anaconda3\\lib\\site-packages (from huggingface-hub<1.0,>=0.24.0->transformers) (2024.6.1)\n",
      "Requirement already satisfied: typing-extensions>=3.7.4.3 in c:\\users\\kruth\\anaconda3\\lib\\site-packages (from huggingface-hub<1.0,>=0.24.0->transformers) (4.11.0)\n",
      "Requirement already satisfied: colorama in c:\\users\\kruth\\anaconda3\\lib\\site-packages (from tqdm>=4.27->transformers) (0.4.6)\n",
      "Requirement already satisfied: charset-normalizer<4,>=2 in c:\\users\\kruth\\anaconda3\\lib\\site-packages (from requests->transformers) (3.3.2)\n",
      "Requirement already satisfied: idna<4,>=2.5 in c:\\users\\kruth\\anaconda3\\lib\\site-packages (from requests->transformers) (3.7)\n",
      "Requirement already satisfied: urllib3<3,>=1.21.1 in c:\\users\\kruth\\anaconda3\\lib\\site-packages (from requests->transformers) (2.2.3)\n",
      "Requirement already satisfied: certifi>=2017.4.17 in c:\\users\\kruth\\anaconda3\\lib\\site-packages (from requests->transformers) (2024.8.30)\n",
      "Downloading transformers-4.48.1-py3-none-any.whl (9.7 MB)\n",
      "   ---------------------------------------- 0.0/9.7 MB ? eta -:--:--\n",
      "   - -------------------------------------- 0.3/9.7 MB ? eta -:--:--\n",
      "   --- ------------------------------------ 0.8/9.7 MB 2.2 MB/s eta 0:00:04\n",
      "   ----- ---------------------------------- 1.3/9.7 MB 2.4 MB/s eta 0:00:04\n",
      "   ------- -------------------------------- 1.8/9.7 MB 2.3 MB/s eta 0:00:04\n",
      "   --------- ------------------------------ 2.4/9.7 MB 2.4 MB/s eta 0:00:03\n",
      "   ----------- ---------------------------- 2.9/9.7 MB 2.4 MB/s eta 0:00:03\n",
      "   -------------- ------------------------- 3.4/9.7 MB 2.4 MB/s eta 0:00:03\n",
      "   ---------------- ----------------------- 3.9/9.7 MB 2.5 MB/s eta 0:00:03\n",
      "   ------------------- -------------------- 4.7/9.7 MB 2.5 MB/s eta 0:00:02\n",
      "   --------------------- ------------------ 5.2/9.7 MB 2.6 MB/s eta 0:00:02\n",
      "   ------------------------ --------------- 6.0/9.7 MB 2.6 MB/s eta 0:00:02\n",
      "   --------------------------- ------------ 6.6/9.7 MB 2.6 MB/s eta 0:00:02\n",
      "   ------------------------------ --------- 7.3/9.7 MB 2.7 MB/s eta 0:00:01\n",
      "   -------------------------------- ------- 7.9/9.7 MB 2.7 MB/s eta 0:00:01\n",
      "   ----------------------------------- ---- 8.7/9.7 MB 2.8 MB/s eta 0:00:01\n",
      "   ---------------------------------------  9.4/9.7 MB 2.8 MB/s eta 0:00:01\n",
      "   ---------------------------------------- 9.7/9.7 MB 2.7 MB/s eta 0:00:00\n",
      "Downloading huggingface_hub-0.27.1-py3-none-any.whl (450 kB)\n",
      "Downloading safetensors-0.5.2-cp38-abi3-win_amd64.whl (303 kB)\n",
      "Downloading tokenizers-0.21.0-cp39-abi3-win_amd64.whl (2.4 MB)\n",
      "   ---------------------------------------- 0.0/2.4 MB ? eta -:--:--\n",
      "   -------- ------------------------------- 0.5/2.4 MB 2.8 MB/s eta 0:00:01\n",
      "   ----------------- ---------------------- 1.0/2.4 MB 3.0 MB/s eta 0:00:01\n",
      "   ------------------------------ --------- 1.8/2.4 MB 3.0 MB/s eta 0:00:01\n",
      "   ---------------------------------------- 2.4/2.4 MB 3.0 MB/s eta 0:00:00\n",
      "Installing collected packages: safetensors, huggingface-hub, tokenizers, transformers\n",
      "Successfully installed huggingface-hub-0.27.1 safetensors-0.5.2 tokenizers-0.21.0 transformers-4.48.1\n",
      "Note: you may need to restart the kernel to use updated packages.\n"
     ]
    }
   ],
   "source": [
    "pip install transformers"
   ]
  },
  {
   "cell_type": "code",
   "execution_count": 1,
   "id": "8931520a-d094-492b-9e48-74786d718b1b",
   "metadata": {},
   "outputs": [
    {
     "name": "stdout",
     "output_type": "stream",
     "text": [
      "Collecting torch\n",
      "  Using cached torch-2.5.1-cp312-cp312-win_amd64.whl.metadata (28 kB)\n",
      "Requirement already satisfied: filelock in c:\\users\\kruth\\anaconda3\\lib\\site-packages (from torch) (3.13.1)\n",
      "Requirement already satisfied: typing-extensions>=4.8.0 in c:\\users\\kruth\\anaconda3\\lib\\site-packages (from torch) (4.11.0)\n",
      "Requirement already satisfied: networkx in c:\\users\\kruth\\anaconda3\\lib\\site-packages (from torch) (3.3)\n",
      "Requirement already satisfied: jinja2 in c:\\users\\kruth\\anaconda3\\lib\\site-packages (from torch) (3.1.4)\n",
      "Requirement already satisfied: fsspec in c:\\users\\kruth\\anaconda3\\lib\\site-packages (from torch) (2024.6.1)\n",
      "Requirement already satisfied: setuptools in c:\\users\\kruth\\anaconda3\\lib\\site-packages (from torch) (75.1.0)\n",
      "Collecting sympy==1.13.1 (from torch)\n",
      "  Using cached sympy-1.13.1-py3-none-any.whl.metadata (12 kB)\n",
      "Requirement already satisfied: mpmath<1.4,>=1.1.0 in c:\\users\\kruth\\anaconda3\\lib\\site-packages (from sympy==1.13.1->torch) (1.3.0)\n",
      "Requirement already satisfied: MarkupSafe>=2.0 in c:\\users\\kruth\\anaconda3\\lib\\site-packages (from jinja2->torch) (2.1.3)\n",
      "Downloading torch-2.5.1-cp312-cp312-win_amd64.whl (203.0 MB)\n",
      "   ---------------------------------------- 0.0/203.0 MB ? eta -:--:--\n",
      "   ---------------------------------------- 1.0/203.0 MB 7.2 MB/s eta 0:00:28\n",
      "   ---------------------------------------- 2.4/203.0 MB 6.4 MB/s eta 0:00:32\n",
      "    --------------------------------------- 2.9/203.0 MB 5.2 MB/s eta 0:00:39\n",
      "    --------------------------------------- 3.7/203.0 MB 4.6 MB/s eta 0:00:43\n",
      "    --------------------------------------- 3.9/203.0 MB 4.2 MB/s eta 0:00:48\n",
      "    --------------------------------------- 4.5/203.0 MB 3.5 MB/s eta 0:00:57\n",
      "    --------------------------------------- 4.7/203.0 MB 3.2 MB/s eta 0:01:03\n",
      "    --------------------------------------- 4.7/203.0 MB 3.2 MB/s eta 0:01:03\n",
      "    --------------------------------------- 5.0/203.0 MB 2.8 MB/s eta 0:01:12\n",
      "   - -------------------------------------- 5.2/203.0 MB 2.6 MB/s eta 0:01:18\n",
      "   - -------------------------------------- 5.2/203.0 MB 2.6 MB/s eta 0:01:18\n",
      "   - -------------------------------------- 5.2/203.0 MB 2.6 MB/s eta 0:01:18\n",
      "   - -------------------------------------- 5.5/203.0 MB 2.0 MB/s eta 0:01:42\n",
      "   - -------------------------------------- 5.5/203.0 MB 2.0 MB/s eta 0:01:42\n",
      "   - -------------------------------------- 5.5/203.0 MB 2.0 MB/s eta 0:01:42\n",
      "   - -------------------------------------- 5.5/203.0 MB 2.0 MB/s eta 0:01:42\n",
      "   - -------------------------------------- 5.8/203.0 MB 1.6 MB/s eta 0:02:03\n",
      "   - -------------------------------------- 5.8/203.0 MB 1.6 MB/s eta 0:02:03\n",
      "   - -------------------------------------- 6.0/203.0 MB 1.5 MB/s eta 0:02:12\n",
      "   - -------------------------------------- 6.3/203.0 MB 1.5 MB/s eta 0:02:16\n",
      "   - -------------------------------------- 6.3/203.0 MB 1.5 MB/s eta 0:02:16\n",
      "   - -------------------------------------- 6.6/203.0 MB 1.4 MB/s eta 0:02:21\n",
      "   - -------------------------------------- 6.6/203.0 MB 1.4 MB/s eta 0:02:21\n",
      "   - -------------------------------------- 6.8/203.0 MB 1.3 MB/s eta 0:02:26\n",
      "   - -------------------------------------- 7.1/203.0 MB 1.3 MB/s eta 0:02:29\n",
      "   - -------------------------------------- 7.1/203.0 MB 1.3 MB/s eta 0:02:29\n",
      "   - -------------------------------------- 7.3/203.0 MB 1.3 MB/s eta 0:02:36\n",
      "   - -------------------------------------- 7.3/203.0 MB 1.3 MB/s eta 0:02:36\n",
      "   - -------------------------------------- 7.3/203.0 MB 1.3 MB/s eta 0:02:36\n",
      "   - -------------------------------------- 7.6/203.0 MB 1.2 MB/s eta 0:02:46\n",
      "   - -------------------------------------- 7.6/203.0 MB 1.2 MB/s eta 0:02:46\n",
      "   - -------------------------------------- 7.9/203.0 MB 1.2 MB/s eta 0:02:49\n",
      "   - -------------------------------------- 8.1/203.0 MB 1.1 MB/s eta 0:02:52\n",
      "   - -------------------------------------- 8.1/203.0 MB 1.1 MB/s eta 0:02:52\n",
      "   - -------------------------------------- 8.4/203.0 MB 1.1 MB/s eta 0:02:53\n",
      "   - -------------------------------------- 8.7/203.0 MB 1.1 MB/s eta 0:02:52\n",
      "   - -------------------------------------- 9.2/203.0 MB 1.1 MB/s eta 0:02:50\n",
      "   - -------------------------------------- 9.4/203.0 MB 1.2 MB/s eta 0:02:48\n",
      "   - -------------------------------------- 10.0/203.0 MB 1.2 MB/s eta 0:02:43\n",
      "   -- ------------------------------------- 10.5/203.0 MB 1.2 MB/s eta 0:02:39\n",
      "   -- ------------------------------------- 10.7/203.0 MB 1.2 MB/s eta 0:02:37\n",
      "   -- ------------------------------------- 11.3/203.0 MB 1.3 MB/s eta 0:02:33\n",
      "   -- ------------------------------------- 12.1/203.0 MB 1.3 MB/s eta 0:02:27\n",
      "   -- ------------------------------------- 12.6/203.0 MB 1.3 MB/s eta 0:02:23\n",
      "   -- ------------------------------------- 13.1/203.0 MB 1.4 MB/s eta 0:02:20\n",
      "   -- ------------------------------------- 13.6/203.0 MB 1.4 MB/s eta 0:02:17\n",
      "   -- ------------------------------------- 14.4/203.0 MB 1.4 MB/s eta 0:02:12\n",
      "   --- ------------------------------------ 15.5/203.0 MB 1.5 MB/s eta 0:02:05\n",
      "   --- ------------------------------------ 16.3/203.0 MB 1.6 MB/s eta 0:02:00\n",
      "   --- ------------------------------------ 17.0/203.0 MB 1.6 MB/s eta 0:01:56\n",
      "   --- ------------------------------------ 17.8/203.0 MB 1.6 MB/s eta 0:01:53\n",
      "   --- ------------------------------------ 18.9/203.0 MB 1.7 MB/s eta 0:01:48\n",
      "   --- ------------------------------------ 19.9/203.0 MB 1.8 MB/s eta 0:01:44\n",
      "   ---- ----------------------------------- 21.0/203.0 MB 1.8 MB/s eta 0:01:40\n",
      "   ---- ----------------------------------- 21.8/203.0 MB 1.9 MB/s eta 0:01:38\n",
      "   ---- ----------------------------------- 22.3/203.0 MB 1.9 MB/s eta 0:01:36\n",
      "   ---- ----------------------------------- 23.1/203.0 MB 1.9 MB/s eta 0:01:35\n",
      "   ---- ----------------------------------- 24.1/203.0 MB 2.0 MB/s eta 0:01:32\n",
      "   ---- ----------------------------------- 24.9/203.0 MB 2.0 MB/s eta 0:01:30\n",
      "   ----- ---------------------------------- 26.0/203.0 MB 2.1 MB/s eta 0:01:27\n",
      "   ----- ---------------------------------- 27.0/203.0 MB 2.1 MB/s eta 0:01:24\n",
      "   ----- ---------------------------------- 27.8/203.0 MB 2.1 MB/s eta 0:01:23\n",
      "   ----- ---------------------------------- 28.8/203.0 MB 2.2 MB/s eta 0:01:21\n",
      "   ----- ---------------------------------- 29.9/203.0 MB 2.2 MB/s eta 0:01:19\n",
      "   ------ --------------------------------- 31.2/203.0 MB 2.3 MB/s eta 0:01:16\n",
      "   ------ --------------------------------- 32.5/203.0 MB 2.3 MB/s eta 0:01:14\n",
      "   ------ --------------------------------- 33.8/203.0 MB 2.4 MB/s eta 0:01:11\n",
      "   ------ --------------------------------- 34.9/203.0 MB 2.4 MB/s eta 0:01:10\n",
      "   ------- -------------------------------- 36.2/203.0 MB 2.5 MB/s eta 0:01:08\n",
      "   ------- -------------------------------- 37.7/203.0 MB 2.5 MB/s eta 0:01:05\n",
      "   ------- -------------------------------- 39.1/203.0 MB 2.6 MB/s eta 0:01:04\n",
      "   ------- -------------------------------- 40.1/203.0 MB 2.6 MB/s eta 0:01:02\n",
      "   -------- ------------------------------- 41.4/203.0 MB 2.7 MB/s eta 0:01:01\n",
      "   -------- ------------------------------- 42.5/203.0 MB 2.7 MB/s eta 0:01:00\n",
      "   -------- ------------------------------- 43.8/203.0 MB 2.8 MB/s eta 0:00:58\n",
      "   -------- ------------------------------- 45.1/203.0 MB 2.8 MB/s eta 0:00:57\n",
      "   --------- ------------------------------ 46.4/203.0 MB 2.8 MB/s eta 0:00:56\n",
      "   --------- ------------------------------ 47.7/203.0 MB 2.9 MB/s eta 0:00:54\n",
      "   --------- ------------------------------ 49.0/203.0 MB 2.9 MB/s eta 0:00:53\n",
      "   --------- ------------------------------ 50.6/203.0 MB 3.0 MB/s eta 0:00:52\n",
      "   ---------- ----------------------------- 52.2/203.0 MB 3.0 MB/s eta 0:00:50\n",
      "   ---------- ----------------------------- 53.2/203.0 MB 3.1 MB/s eta 0:00:50\n",
      "   ---------- ----------------------------- 54.3/203.0 MB 3.1 MB/s eta 0:00:49\n",
      "   ----------- ---------------------------- 56.1/203.0 MB 3.1 MB/s eta 0:00:47\n",
      "   ----------- ---------------------------- 57.7/203.0 MB 3.2 MB/s eta 0:00:46\n",
      "   ----------- ---------------------------- 59.5/203.0 MB 3.3 MB/s eta 0:00:45\n",
      "   ------------ --------------------------- 61.6/203.0 MB 3.3 MB/s eta 0:00:43\n",
      "   ------------ --------------------------- 64.0/203.0 MB 3.4 MB/s eta 0:00:41\n",
      "   ------------- -------------------------- 67.1/203.0 MB 3.6 MB/s eta 0:00:39\n",
      "   ------------- -------------------------- 70.3/203.0 MB 3.7 MB/s eta 0:00:37\n",
      "   -------------- ------------------------- 73.4/203.0 MB 3.8 MB/s eta 0:00:35\n",
      "   -------------- ------------------------- 76.0/203.0 MB 3.9 MB/s eta 0:00:33\n",
      "   --------------- ------------------------ 79.7/203.0 MB 4.0 MB/s eta 0:00:31\n",
      "   ---------------- ----------------------- 82.3/203.0 MB 4.1 MB/s eta 0:00:30\n",
      "   ----------------- ---------------------- 86.8/203.0 MB 4.3 MB/s eta 0:00:28\n",
      "   ----------------- ---------------------- 90.7/203.0 MB 4.4 MB/s eta 0:00:26\n",
      "   ------------------ --------------------- 94.6/203.0 MB 4.6 MB/s eta 0:00:24\n",
      "   ------------------- -------------------- 98.6/203.0 MB 4.7 MB/s eta 0:00:23\n",
      "   -------------------- ------------------- 103.0/203.0 MB 4.9 MB/s eta 0:00:21\n",
      "   --------------------- ------------------ 107.0/203.0 MB 5.0 MB/s eta 0:00:20\n",
      "   --------------------- ------------------ 111.1/203.0 MB 5.2 MB/s eta 0:00:18\n",
      "   ---------------------- ----------------- 114.3/203.0 MB 5.3 MB/s eta 0:00:17\n",
      "   ---------------------- ----------------- 116.4/203.0 MB 5.3 MB/s eta 0:00:17\n",
      "   ----------------------- ---------------- 119.5/203.0 MB 5.4 MB/s eta 0:00:16\n",
      "   ------------------------ --------------- 122.9/203.0 MB 5.5 MB/s eta 0:00:15\n",
      "   ------------------------ --------------- 126.6/203.0 MB 5.6 MB/s eta 0:00:14\n",
      "   ------------------------- -------------- 131.1/203.0 MB 5.8 MB/s eta 0:00:13\n",
      "   -------------------------- ------------- 135.3/203.0 MB 5.9 MB/s eta 0:00:12\n",
      "   --------------------------- ------------ 139.5/203.0 MB 6.0 MB/s eta 0:00:11\n",
      "   ---------------------------- ----------- 143.7/203.0 MB 6.2 MB/s eta 0:00:10\n",
      "   ----------------------------- ---------- 147.3/203.0 MB 6.3 MB/s eta 0:00:09\n",
      "   ----------------------------- ---------- 150.7/203.0 MB 6.4 MB/s eta 0:00:09\n",
      "   ------------------------------ --------- 154.1/203.0 MB 6.4 MB/s eta 0:00:08\n",
      "   ------------------------------- -------- 159.1/203.0 MB 6.6 MB/s eta 0:00:07\n",
      "   -------------------------------- ------- 163.6/203.0 MB 6.7 MB/s eta 0:00:06\n",
      "   --------------------------------- ------ 168.0/203.0 MB 6.8 MB/s eta 0:00:06\n",
      "   --------------------------------- ------ 172.5/203.0 MB 7.0 MB/s eta 0:00:05\n",
      "   ---------------------------------- ----- 177.2/203.0 MB 7.1 MB/s eta 0:00:04\n",
      "   ----------------------------------- ---- 181.7/203.0 MB 7.2 MB/s eta 0:00:03\n",
      "   ------------------------------------ --- 186.6/203.0 MB 7.3 MB/s eta 0:00:03\n",
      "   ------------------------------------- -- 191.4/203.0 MB 7.5 MB/s eta 0:00:02\n",
      "   -------------------------------------- - 192.9/203.0 MB 7.5 MB/s eta 0:00:02\n",
      "   -------------------------------------- - 195.8/203.0 MB 7.5 MB/s eta 0:00:01\n",
      "   -------------------------------------- - 197.1/203.0 MB 7.5 MB/s eta 0:00:01\n",
      "   -------------------------------------- - 197.7/203.0 MB 7.5 MB/s eta 0:00:01\n",
      "   ---------------------------------------  198.2/203.0 MB 7.4 MB/s eta 0:00:01\n",
      "   ---------------------------------------  199.0/203.0 MB 7.4 MB/s eta 0:00:01\n",
      "   ---------------------------------------  200.0/203.0 MB 7.4 MB/s eta 0:00:01\n",
      "   ---------------------------------------  200.5/203.0 MB 7.3 MB/s eta 0:00:01\n",
      "   ---------------------------------------  201.6/203.0 MB 7.3 MB/s eta 0:00:01\n",
      "   ---------------------------------------  202.4/203.0 MB 7.3 MB/s eta 0:00:01\n",
      "   ---------------------------------------  202.9/203.0 MB 7.3 MB/s eta 0:00:01\n",
      "   ---------------------------------------  202.9/203.0 MB 7.3 MB/s eta 0:00:01\n",
      "   ---------------------------------------  202.9/203.0 MB 7.3 MB/s eta 0:00:01\n",
      "   ---------------------------------------  202.9/203.0 MB 7.3 MB/s eta 0:00:01\n",
      "   ---------------------------------------  202.9/203.0 MB 7.3 MB/s eta 0:00:01\n",
      "   ---------------------------------------  202.9/203.0 MB 7.3 MB/s eta 0:00:01\n",
      "   ---------------------------------------  202.9/203.0 MB 7.3 MB/s eta 0:00:01\n",
      "   ---------------------------------------  202.9/203.0 MB 7.3 MB/s eta 0:00:01\n",
      "   ---------------------------------------  202.9/203.0 MB 7.3 MB/s eta 0:00:01\n",
      "   ---------------------------------------  202.9/203.0 MB 7.3 MB/s eta 0:00:01\n",
      "   ---------------------------------------  202.9/203.0 MB 7.3 MB/s eta 0:00:01\n",
      "   ---------------------------------------  202.9/203.0 MB 7.3 MB/s eta 0:00:01\n",
      "   ---------------------------------------- 203.0/203.0 MB 6.7 MB/s eta 0:00:00\n",
      "Downloading sympy-1.13.1-py3-none-any.whl (6.2 MB)\n",
      "   ---------------------------------------- 0.0/6.2 MB ? eta -:--:--\n",
      "   --- ------------------------------------ 0.5/6.2 MB 3.4 MB/s eta 0:00:02\n",
      "   ------ --------------------------------- 1.0/6.2 MB 2.6 MB/s eta 0:00:02\n",
      "   ---------- ----------------------------- 1.6/6.2 MB 2.4 MB/s eta 0:00:02\n",
      "   ----------- ---------------------------- 1.8/6.2 MB 2.1 MB/s eta 0:00:03\n",
      "   ----------- ---------------------------- 1.8/6.2 MB 2.1 MB/s eta 0:00:03\n",
      "   ------------- -------------------------- 2.1/6.2 MB 1.8 MB/s eta 0:00:03\n",
      "   --------------- ------------------------ 2.4/6.2 MB 1.7 MB/s eta 0:00:03\n",
      "   ------------------ --------------------- 2.9/6.2 MB 1.6 MB/s eta 0:00:03\n",
      "   -------------------- ------------------- 3.1/6.2 MB 1.6 MB/s eta 0:00:02\n",
      "   ---------------------- ----------------- 3.4/6.2 MB 1.6 MB/s eta 0:00:02\n",
      "   ----------------------- ---------------- 3.7/6.2 MB 1.5 MB/s eta 0:00:02\n",
      "   ----------------------- ---------------- 3.7/6.2 MB 1.5 MB/s eta 0:00:02\n",
      "   ------------------------- -------------- 3.9/6.2 MB 1.4 MB/s eta 0:00:02\n",
      "   ------------------------- -------------- 3.9/6.2 MB 1.4 MB/s eta 0:00:02\n",
      "   --------------------------- ------------ 4.2/6.2 MB 1.3 MB/s eta 0:00:02\n",
      "   ---------------------------- ----------- 4.5/6.2 MB 1.3 MB/s eta 0:00:02\n",
      "   ------------------------------ --------- 4.7/6.2 MB 1.3 MB/s eta 0:00:02\n",
      "   ------------------------------ --------- 4.7/6.2 MB 1.3 MB/s eta 0:00:02\n",
      "   -------------------------------- ------- 5.0/6.2 MB 1.2 MB/s eta 0:00:01\n",
      "   --------------------------------- ------ 5.2/6.2 MB 1.2 MB/s eta 0:00:01\n",
      "   ----------------------------------- ---- 5.5/6.2 MB 1.2 MB/s eta 0:00:01\n",
      "   ------------------------------------- -- 5.8/6.2 MB 1.2 MB/s eta 0:00:01\n",
      "   -------------------------------------- - 6.0/6.2 MB 1.2 MB/s eta 0:00:01\n",
      "   ---------------------------------------- 6.2/6.2 MB 1.2 MB/s eta 0:00:00\n",
      "Installing collected packages: sympy, torch\n",
      "  Attempting uninstall: sympy\n",
      "    Found existing installation: sympy 1.13.2\n",
      "    Uninstalling sympy-1.13.2:\n",
      "      Successfully uninstalled sympy-1.13.2\n",
      "Successfully installed sympy-1.13.1 torch-2.5.1\n"
     ]
    }
   ],
   "source": [
    "!pip install torch"
   ]
  },
  {
   "cell_type": "code",
   "execution_count": 24,
   "id": "ba74decc-ef03-4568-b4b3-0d4191289a52",
   "metadata": {},
   "outputs": [],
   "source": [
    "from transformers import pipeline\n"
   ]
  },
  {
   "cell_type": "code",
   "execution_count": 111,
   "id": "98ad85aa-55d1-43ae-b822-ce20c2bcdd3f",
   "metadata": {},
   "outputs": [
    {
     "name": "stdout",
     "output_type": "stream",
     "text": [
      "Detected remote with confidence 0.998 at location [40.16, 70.81, 175.55, 117.98]\n",
      "Detected remote with confidence 0.996 at location [333.24, 72.55, 368.33, 187.66]\n",
      "Detected couch with confidence 0.995 at location [-0.02, 1.15, 639.73, 473.76]\n",
      "Detected cat with confidence 0.999 at location [13.24, 52.05, 314.02, 470.93]\n",
      "Detected cat with confidence 0.999 at location [345.4, 23.85, 640.37, 368.72]\n"
     ]
    }
   ],
   "source": [
    "from transformers import DetrImageProcessor, DetrForObjectDetection\n",
    "import torch\n",
    "from PIL import Image\n",
    "import requests\n",
    "\n",
    "url = \"http://images.cocodataset.org/val2017/000000039769.jpg\"\n",
    "image = Image.open(requests.get(url, stream=True).raw)\n",
    "\n",
    "# you can specify the revision tag if you don't want the timm dependency\n",
    "processor = DetrImageProcessor.from_pretrained(\"facebook/detr-resnet-50\", revision=\"no_timm\")\n",
    "model = DetrForObjectDetection.from_pretrained(\"facebook/detr-resnet-50\", revision=\"no_timm\")\n",
    "\n",
    "inputs = processor(images=image, return_tensors=\"pt\")\n",
    "outputs = model(**inputs)\n",
    "\n",
    "# convert outputs (bounding boxes and class logits) to COCO API\n",
    "# let's only keep detections with score > 0.9\n",
    "target_sizes = torch.tensor([image.size[::-1]])\n",
    "results = processor.post_process_object_detection(outputs, target_sizes=target_sizes, threshold=0.9)[0]\n",
    "\n",
    "for score, label, box in zip(results[\"scores\"], results[\"labels\"], results[\"boxes\"]):\n",
    "    box = [round(i, 2) for i in box.tolist()]\n",
    "    print(\n",
    "            f\"Detected {model.config.id2label[label.item()]} with confidence \"\n",
    "            f\"{round(score.item(), 3)} at location {box}\"\n",
    "    )\n"
   ]
  },
  {
   "cell_type": "code",
   "execution_count": 113,
   "id": "1d13e606-2976-41af-900c-54f63389e9eb",
   "metadata": {},
   "outputs": [
    {
     "name": "stderr",
     "output_type": "stream",
     "text": [
      "Some weights of BertForSequenceClassification were not initialized from the model checkpoint at bert-base-uncased and are newly initialized: ['classifier.bias', 'classifier.weight']\n",
      "You should probably TRAIN this model on a down-stream task to be able to use it for predictions and inference.\n"
     ]
    }
   ],
   "source": [
    "from transformers import AutoModelForSequenceClassification, AutoTokenizer\n",
    "\n",
    "model = AutoModelForSequenceClassification.from_pretrained(\"bert-base-uncased\")\n",
    "tokenizer = AutoTokenizer.from_pretrained(\"bert-base-uncased\")\n"
   ]
  },
  {
   "cell_type": "code",
   "execution_count": 68,
   "id": "fb80935c-dd14-4b23-b585-7372b5f83aef",
   "metadata": {},
   "outputs": [
    {
     "name": "stdout",
     "output_type": "stream",
     "text": [
      "Requirement already satisfied: huggingface_hub in c:\\users\\kruth\\anaconda3\\lib\\site-packages (0.27.1)\n",
      "Requirement already satisfied: filelock in c:\\users\\kruth\\anaconda3\\lib\\site-packages (from huggingface_hub) (3.13.1)\n",
      "Requirement already satisfied: fsspec>=2023.5.0 in c:\\users\\kruth\\anaconda3\\lib\\site-packages (from huggingface_hub) (2024.6.1)\n",
      "Requirement already satisfied: packaging>=20.9 in c:\\users\\kruth\\anaconda3\\lib\\site-packages (from huggingface_hub) (24.1)\n",
      "Requirement already satisfied: pyyaml>=5.1 in c:\\users\\kruth\\anaconda3\\lib\\site-packages (from huggingface_hub) (6.0.1)\n",
      "Requirement already satisfied: requests in c:\\users\\kruth\\anaconda3\\lib\\site-packages (from huggingface_hub) (2.32.3)\n",
      "Requirement already satisfied: tqdm>=4.42.1 in c:\\users\\kruth\\anaconda3\\lib\\site-packages (from huggingface_hub) (4.66.5)\n",
      "Requirement already satisfied: typing-extensions>=3.7.4.3 in c:\\users\\kruth\\anaconda3\\lib\\site-packages (from huggingface_hub) (4.11.0)\n",
      "Requirement already satisfied: colorama in c:\\users\\kruth\\anaconda3\\lib\\site-packages (from tqdm>=4.42.1->huggingface_hub) (0.4.6)\n",
      "Requirement already satisfied: charset-normalizer<4,>=2 in c:\\users\\kruth\\anaconda3\\lib\\site-packages (from requests->huggingface_hub) (3.3.2)\n",
      "Requirement already satisfied: idna<4,>=2.5 in c:\\users\\kruth\\anaconda3\\lib\\site-packages (from requests->huggingface_hub) (3.7)\n",
      "Requirement already satisfied: urllib3<3,>=1.21.1 in c:\\users\\kruth\\anaconda3\\lib\\site-packages (from requests->huggingface_hub) (2.2.3)\n",
      "Requirement already satisfied: certifi>=2017.4.17 in c:\\users\\kruth\\anaconda3\\lib\\site-packages (from requests->huggingface_hub) (2024.8.30)\n",
      "Requirement already satisfied: langchain in c:\\users\\kruth\\anaconda3\\lib\\site-packages (0.3.16)\n",
      "Requirement already satisfied: PyYAML>=5.3 in c:\\users\\kruth\\anaconda3\\lib\\site-packages (from langchain) (6.0.1)\n",
      "Requirement already satisfied: SQLAlchemy<3,>=1.4 in c:\\users\\kruth\\anaconda3\\lib\\site-packages (from langchain) (2.0.34)\n",
      "Requirement already satisfied: aiohttp<4.0.0,>=3.8.3 in c:\\users\\kruth\\anaconda3\\lib\\site-packages (from langchain) (3.10.5)\n",
      "Requirement already satisfied: langchain-core<0.4.0,>=0.3.32 in c:\\users\\kruth\\anaconda3\\lib\\site-packages (from langchain) (0.3.32)\n",
      "Requirement already satisfied: langchain-text-splitters<0.4.0,>=0.3.3 in c:\\users\\kruth\\anaconda3\\lib\\site-packages (from langchain) (0.3.5)\n",
      "Requirement already satisfied: langsmith<0.4,>=0.1.17 in c:\\users\\kruth\\anaconda3\\lib\\site-packages (from langchain) (0.3.2)\n",
      "Requirement already satisfied: numpy<3,>=1.26.2 in c:\\users\\kruth\\anaconda3\\lib\\site-packages (from langchain) (1.26.4)\n",
      "Requirement already satisfied: pydantic<3.0.0,>=2.7.4 in c:\\users\\kruth\\anaconda3\\lib\\site-packages (from langchain) (2.8.2)\n",
      "Requirement already satisfied: requests<3,>=2 in c:\\users\\kruth\\anaconda3\\lib\\site-packages (from langchain) (2.32.3)\n",
      "Requirement already satisfied: tenacity!=8.4.0,<10,>=8.1.0 in c:\\users\\kruth\\anaconda3\\lib\\site-packages (from langchain) (8.2.3)\n",
      "Requirement already satisfied: aiohappyeyeballs>=2.3.0 in c:\\users\\kruth\\anaconda3\\lib\\site-packages (from aiohttp<4.0.0,>=3.8.3->langchain) (2.4.0)\n",
      "Requirement already satisfied: aiosignal>=1.1.2 in c:\\users\\kruth\\anaconda3\\lib\\site-packages (from aiohttp<4.0.0,>=3.8.3->langchain) (1.2.0)\n",
      "Requirement already satisfied: attrs>=17.3.0 in c:\\users\\kruth\\anaconda3\\lib\\site-packages (from aiohttp<4.0.0,>=3.8.3->langchain) (23.1.0)\n",
      "Requirement already satisfied: frozenlist>=1.1.1 in c:\\users\\kruth\\anaconda3\\lib\\site-packages (from aiohttp<4.0.0,>=3.8.3->langchain) (1.4.0)\n",
      "Requirement already satisfied: multidict<7.0,>=4.5 in c:\\users\\kruth\\anaconda3\\lib\\site-packages (from aiohttp<4.0.0,>=3.8.3->langchain) (6.0.4)\n",
      "Requirement already satisfied: yarl<2.0,>=1.0 in c:\\users\\kruth\\anaconda3\\lib\\site-packages (from aiohttp<4.0.0,>=3.8.3->langchain) (1.11.0)\n",
      "Requirement already satisfied: jsonpatch<2.0,>=1.33 in c:\\users\\kruth\\anaconda3\\lib\\site-packages (from langchain-core<0.4.0,>=0.3.32->langchain) (1.33)\n",
      "Requirement already satisfied: packaging<25,>=23.2 in c:\\users\\kruth\\anaconda3\\lib\\site-packages (from langchain-core<0.4.0,>=0.3.32->langchain) (24.1)\n",
      "Requirement already satisfied: typing-extensions>=4.7 in c:\\users\\kruth\\anaconda3\\lib\\site-packages (from langchain-core<0.4.0,>=0.3.32->langchain) (4.11.0)\n",
      "Requirement already satisfied: httpx<1,>=0.23.0 in c:\\users\\kruth\\anaconda3\\lib\\site-packages (from langsmith<0.4,>=0.1.17->langchain) (0.27.0)\n",
      "Requirement already satisfied: orjson<4.0.0,>=3.9.14 in c:\\users\\kruth\\anaconda3\\lib\\site-packages (from langsmith<0.4,>=0.1.17->langchain) (3.10.15)\n",
      "Requirement already satisfied: requests-toolbelt<2.0.0,>=1.0.0 in c:\\users\\kruth\\anaconda3\\lib\\site-packages (from langsmith<0.4,>=0.1.17->langchain) (1.0.0)\n",
      "Requirement already satisfied: zstandard<0.24.0,>=0.23.0 in c:\\users\\kruth\\anaconda3\\lib\\site-packages (from langsmith<0.4,>=0.1.17->langchain) (0.23.0)\n",
      "Requirement already satisfied: annotated-types>=0.4.0 in c:\\users\\kruth\\anaconda3\\lib\\site-packages (from pydantic<3.0.0,>=2.7.4->langchain) (0.6.0)\n",
      "Requirement already satisfied: pydantic-core==2.20.1 in c:\\users\\kruth\\anaconda3\\lib\\site-packages (from pydantic<3.0.0,>=2.7.4->langchain) (2.20.1)\n",
      "Requirement already satisfied: charset-normalizer<4,>=2 in c:\\users\\kruth\\anaconda3\\lib\\site-packages (from requests<3,>=2->langchain) (3.3.2)\n",
      "Requirement already satisfied: idna<4,>=2.5 in c:\\users\\kruth\\anaconda3\\lib\\site-packages (from requests<3,>=2->langchain) (3.7)\n",
      "Requirement already satisfied: urllib3<3,>=1.21.1 in c:\\users\\kruth\\anaconda3\\lib\\site-packages (from requests<3,>=2->langchain) (2.2.3)\n",
      "Requirement already satisfied: certifi>=2017.4.17 in c:\\users\\kruth\\anaconda3\\lib\\site-packages (from requests<3,>=2->langchain) (2024.8.30)\n",
      "Requirement already satisfied: greenlet!=0.4.17 in c:\\users\\kruth\\anaconda3\\lib\\site-packages (from SQLAlchemy<3,>=1.4->langchain) (3.0.1)\n",
      "Requirement already satisfied: anyio in c:\\users\\kruth\\anaconda3\\lib\\site-packages (from httpx<1,>=0.23.0->langsmith<0.4,>=0.1.17->langchain) (4.2.0)\n",
      "Requirement already satisfied: httpcore==1.* in c:\\users\\kruth\\anaconda3\\lib\\site-packages (from httpx<1,>=0.23.0->langsmith<0.4,>=0.1.17->langchain) (1.0.2)\n",
      "Requirement already satisfied: sniffio in c:\\users\\kruth\\anaconda3\\lib\\site-packages (from httpx<1,>=0.23.0->langsmith<0.4,>=0.1.17->langchain) (1.3.0)\n",
      "Requirement already satisfied: h11<0.15,>=0.13 in c:\\users\\kruth\\anaconda3\\lib\\site-packages (from httpcore==1.*->httpx<1,>=0.23.0->langsmith<0.4,>=0.1.17->langchain) (0.14.0)\n",
      "Requirement already satisfied: jsonpointer>=1.9 in c:\\users\\kruth\\anaconda3\\lib\\site-packages (from jsonpatch<2.0,>=1.33->langchain-core<0.4.0,>=0.3.32->langchain) (2.1)\n",
      "Requirement already satisfied: chainlit in c:\\users\\kruth\\anaconda3\\lib\\site-packages (2.0.602)\n",
      "Requirement already satisfied: aiofiles<24.0.0,>=23.1.0 in c:\\users\\kruth\\anaconda3\\lib\\site-packages (from chainlit) (23.2.1)\n",
      "Requirement already satisfied: asyncer<0.0.8,>=0.0.7 in c:\\users\\kruth\\anaconda3\\lib\\site-packages (from chainlit) (0.0.7)\n",
      "Requirement already satisfied: click<9.0.0,>=8.1.3 in c:\\users\\kruth\\anaconda3\\lib\\site-packages (from chainlit) (8.1.7)\n",
      "Requirement already satisfied: dataclasses_json<0.7.0,>=0.6.7 in c:\\users\\kruth\\anaconda3\\lib\\site-packages (from chainlit) (0.6.7)\n",
      "Requirement already satisfied: fastapi<0.116,>=0.115.3 in c:\\users\\kruth\\anaconda3\\lib\\site-packages (from chainlit) (0.115.7)\n",
      "Requirement already satisfied: filetype<2.0.0,>=1.2.0 in c:\\users\\kruth\\anaconda3\\lib\\site-packages (from chainlit) (1.2.0)\n",
      "Requirement already satisfied: httpx>=0.23.0 in c:\\users\\kruth\\anaconda3\\lib\\site-packages (from chainlit) (0.27.0)\n",
      "Requirement already satisfied: lazify<0.5.0,>=0.4.0 in c:\\users\\kruth\\anaconda3\\lib\\site-packages (from chainlit) (0.4.0)\n",
      "Requirement already satisfied: literalai==0.1.103 in c:\\users\\kruth\\anaconda3\\lib\\site-packages (from chainlit) (0.1.103)\n",
      "Requirement already satisfied: nest-asyncio<2.0.0,>=1.6.0 in c:\\users\\kruth\\anaconda3\\lib\\site-packages (from chainlit) (1.6.0)\n",
      "Requirement already satisfied: packaging>=23.1 in c:\\users\\kruth\\anaconda3\\lib\\site-packages (from chainlit) (24.1)\n",
      "Requirement already satisfied: pydantic<3,>=1 in c:\\users\\kruth\\anaconda3\\lib\\site-packages (from chainlit) (2.8.2)\n",
      "Requirement already satisfied: pyjwt<3.0.0,>=2.8.0 in c:\\users\\kruth\\anaconda3\\lib\\site-packages (from chainlit) (2.8.0)\n",
      "Requirement already satisfied: python-dotenv<2.0.0,>=1.0.0 in c:\\users\\kruth\\anaconda3\\lib\\site-packages (from chainlit) (1.0.1)\n",
      "Requirement already satisfied: python-multipart<0.0.19,>=0.0.18 in c:\\users\\kruth\\anaconda3\\lib\\site-packages (from chainlit) (0.0.18)\n",
      "Requirement already satisfied: python-socketio<6.0.0,>=5.11.0 in c:\\users\\kruth\\anaconda3\\lib\\site-packages (from chainlit) (5.12.1)\n",
      "Requirement already satisfied: starlette<0.42.0,>=0.41.2 in c:\\users\\kruth\\anaconda3\\lib\\site-packages (from chainlit) (0.41.3)\n",
      "Requirement already satisfied: syncer<3.0.0,>=2.0.3 in c:\\users\\kruth\\anaconda3\\lib\\site-packages (from chainlit) (2.0.3)\n",
      "Requirement already satisfied: tomli<3.0.0,>=2.0.1 in c:\\users\\kruth\\anaconda3\\lib\\site-packages (from chainlit) (2.0.1)\n",
      "Requirement already satisfied: uptrace<2.0.0,>=1.22.0 in c:\\users\\kruth\\anaconda3\\lib\\site-packages (from chainlit) (1.29.0)\n",
      "Requirement already satisfied: uvicorn>=0.25.0 in c:\\users\\kruth\\anaconda3\\lib\\site-packages (from chainlit) (0.34.0)\n",
      "Requirement already satisfied: watchfiles<0.21.0,>=0.20.0 in c:\\users\\kruth\\anaconda3\\lib\\site-packages (from chainlit) (0.20.0)\n",
      "Requirement already satisfied: chevron>=0.14.0 in c:\\users\\kruth\\anaconda3\\lib\\site-packages (from literalai==0.1.103->chainlit) (0.14.0)\n",
      "Requirement already satisfied: anyio<5.0,>=3.4.0 in c:\\users\\kruth\\anaconda3\\lib\\site-packages (from asyncer<0.0.8,>=0.0.7->chainlit) (4.2.0)\n",
      "Requirement already satisfied: colorama in c:\\users\\kruth\\anaconda3\\lib\\site-packages (from click<9.0.0,>=8.1.3->chainlit) (0.4.6)\n",
      "Requirement already satisfied: marshmallow<4.0.0,>=3.18.0 in c:\\users\\kruth\\anaconda3\\lib\\site-packages (from dataclasses_json<0.7.0,>=0.6.7->chainlit) (3.26.0)\n",
      "Requirement already satisfied: typing-inspect<1,>=0.4.0 in c:\\users\\kruth\\anaconda3\\lib\\site-packages (from dataclasses_json<0.7.0,>=0.6.7->chainlit) (0.9.0)\n",
      "Requirement already satisfied: typing-extensions>=4.8.0 in c:\\users\\kruth\\anaconda3\\lib\\site-packages (from fastapi<0.116,>=0.115.3->chainlit) (4.11.0)\n",
      "Requirement already satisfied: certifi in c:\\users\\kruth\\anaconda3\\lib\\site-packages (from httpx>=0.23.0->chainlit) (2024.8.30)\n",
      "Requirement already satisfied: httpcore==1.* in c:\\users\\kruth\\anaconda3\\lib\\site-packages (from httpx>=0.23.0->chainlit) (1.0.2)\n",
      "Requirement already satisfied: idna in c:\\users\\kruth\\anaconda3\\lib\\site-packages (from httpx>=0.23.0->chainlit) (3.7)\n",
      "Requirement already satisfied: sniffio in c:\\users\\kruth\\anaconda3\\lib\\site-packages (from httpx>=0.23.0->chainlit) (1.3.0)\n",
      "Requirement already satisfied: h11<0.15,>=0.13 in c:\\users\\kruth\\anaconda3\\lib\\site-packages (from httpcore==1.*->httpx>=0.23.0->chainlit) (0.14.0)\n",
      "Requirement already satisfied: annotated-types>=0.4.0 in c:\\users\\kruth\\anaconda3\\lib\\site-packages (from pydantic<3,>=1->chainlit) (0.6.0)\n",
      "Requirement already satisfied: pydantic-core==2.20.1 in c:\\users\\kruth\\anaconda3\\lib\\site-packages (from pydantic<3,>=1->chainlit) (2.20.1)\n",
      "Requirement already satisfied: bidict>=0.21.0 in c:\\users\\kruth\\anaconda3\\lib\\site-packages (from python-socketio<6.0.0,>=5.11.0->chainlit) (0.23.1)\n",
      "Requirement already satisfied: python-engineio>=4.11.0 in c:\\users\\kruth\\anaconda3\\lib\\site-packages (from python-socketio<6.0.0,>=5.11.0->chainlit) (4.11.2)\n",
      "Requirement already satisfied: opentelemetry-api~=1.29.0 in c:\\users\\kruth\\anaconda3\\lib\\site-packages (from uptrace<2.0.0,>=1.22.0->chainlit) (1.29.0)\n",
      "Requirement already satisfied: opentelemetry-sdk~=1.29.0 in c:\\users\\kruth\\anaconda3\\lib\\site-packages (from uptrace<2.0.0,>=1.22.0->chainlit) (1.29.0)\n",
      "Requirement already satisfied: opentelemetry-exporter-otlp~=1.29.0 in c:\\users\\kruth\\anaconda3\\lib\\site-packages (from uptrace<2.0.0,>=1.22.0->chainlit) (1.29.0)\n",
      "Requirement already satisfied: opentelemetry-instrumentation~=0.50b0 in c:\\users\\kruth\\anaconda3\\lib\\site-packages (from uptrace<2.0.0,>=1.22.0->chainlit) (0.50b0)\n",
      "Requirement already satisfied: deprecated>=1.2.6 in c:\\users\\kruth\\anaconda3\\lib\\site-packages (from opentelemetry-api~=1.29.0->uptrace<2.0.0,>=1.22.0->chainlit) (1.2.18)\n",
      "Requirement already satisfied: importlib-metadata<=8.5.0,>=6.0 in c:\\users\\kruth\\anaconda3\\lib\\site-packages (from opentelemetry-api~=1.29.0->uptrace<2.0.0,>=1.22.0->chainlit) (7.0.1)\n",
      "Requirement already satisfied: opentelemetry-exporter-otlp-proto-grpc==1.29.0 in c:\\users\\kruth\\anaconda3\\lib\\site-packages (from opentelemetry-exporter-otlp~=1.29.0->uptrace<2.0.0,>=1.22.0->chainlit) (1.29.0)\n",
      "Requirement already satisfied: opentelemetry-exporter-otlp-proto-http==1.29.0 in c:\\users\\kruth\\anaconda3\\lib\\site-packages (from opentelemetry-exporter-otlp~=1.29.0->uptrace<2.0.0,>=1.22.0->chainlit) (1.29.0)\n",
      "Requirement already satisfied: googleapis-common-protos~=1.52 in c:\\users\\kruth\\anaconda3\\lib\\site-packages (from opentelemetry-exporter-otlp-proto-grpc==1.29.0->opentelemetry-exporter-otlp~=1.29.0->uptrace<2.0.0,>=1.22.0->chainlit) (1.66.0)\n",
      "Requirement already satisfied: grpcio<2.0.0,>=1.63.2 in c:\\users\\kruth\\anaconda3\\lib\\site-packages (from opentelemetry-exporter-otlp-proto-grpc==1.29.0->opentelemetry-exporter-otlp~=1.29.0->uptrace<2.0.0,>=1.22.0->chainlit) (1.70.0)\n",
      "Requirement already satisfied: opentelemetry-exporter-otlp-proto-common==1.29.0 in c:\\users\\kruth\\anaconda3\\lib\\site-packages (from opentelemetry-exporter-otlp-proto-grpc==1.29.0->opentelemetry-exporter-otlp~=1.29.0->uptrace<2.0.0,>=1.22.0->chainlit) (1.29.0)\n",
      "Requirement already satisfied: opentelemetry-proto==1.29.0 in c:\\users\\kruth\\anaconda3\\lib\\site-packages (from opentelemetry-exporter-otlp-proto-grpc==1.29.0->opentelemetry-exporter-otlp~=1.29.0->uptrace<2.0.0,>=1.22.0->chainlit) (1.29.0)\n",
      "Requirement already satisfied: requests~=2.7 in c:\\users\\kruth\\anaconda3\\lib\\site-packages (from opentelemetry-exporter-otlp-proto-http==1.29.0->opentelemetry-exporter-otlp~=1.29.0->uptrace<2.0.0,>=1.22.0->chainlit) (2.32.3)\n",
      "Requirement already satisfied: protobuf<6.0,>=5.0 in c:\\users\\kruth\\anaconda3\\lib\\site-packages (from opentelemetry-proto==1.29.0->opentelemetry-exporter-otlp-proto-grpc==1.29.0->opentelemetry-exporter-otlp~=1.29.0->uptrace<2.0.0,>=1.22.0->chainlit) (5.29.3)\n",
      "Requirement already satisfied: opentelemetry-semantic-conventions==0.50b0 in c:\\users\\kruth\\anaconda3\\lib\\site-packages (from opentelemetry-instrumentation~=0.50b0->uptrace<2.0.0,>=1.22.0->chainlit) (0.50b0)\n",
      "Requirement already satisfied: wrapt<2.0.0,>=1.0.0 in c:\\users\\kruth\\anaconda3\\lib\\site-packages (from opentelemetry-instrumentation~=0.50b0->uptrace<2.0.0,>=1.22.0->chainlit) (1.14.1)\n",
      "Requirement already satisfied: simple-websocket>=0.10.0 in c:\\users\\kruth\\anaconda3\\lib\\site-packages (from python-engineio>=4.11.0->python-socketio<6.0.0,>=5.11.0->chainlit) (1.1.0)\n",
      "Requirement already satisfied: mypy-extensions>=0.3.0 in c:\\users\\kruth\\anaconda3\\lib\\site-packages (from typing-inspect<1,>=0.4.0->dataclasses_json<0.7.0,>=0.6.7->chainlit) (1.0.0)\n",
      "Requirement already satisfied: zipp>=0.5 in c:\\users\\kruth\\anaconda3\\lib\\site-packages (from importlib-metadata<=8.5.0,>=6.0->opentelemetry-api~=1.29.0->uptrace<2.0.0,>=1.22.0->chainlit) (3.17.0)\n",
      "Requirement already satisfied: wsproto in c:\\users\\kruth\\anaconda3\\lib\\site-packages (from simple-websocket>=0.10.0->python-engineio>=4.11.0->python-socketio<6.0.0,>=5.11.0->chainlit) (1.2.0)\n",
      "Requirement already satisfied: charset-normalizer<4,>=2 in c:\\users\\kruth\\anaconda3\\lib\\site-packages (from requests~=2.7->opentelemetry-exporter-otlp-proto-http==1.29.0->opentelemetry-exporter-otlp~=1.29.0->uptrace<2.0.0,>=1.22.0->chainlit) (3.3.2)\n",
      "Requirement already satisfied: urllib3<3,>=1.21.1 in c:\\users\\kruth\\anaconda3\\lib\\site-packages (from requests~=2.7->opentelemetry-exporter-otlp-proto-http==1.29.0->opentelemetry-exporter-otlp~=1.29.0->uptrace<2.0.0,>=1.22.0->chainlit) (2.2.3)\n"
     ]
    }
   ],
   "source": [
    "!pip install huggingface_hub\n",
    "!pip install langchain\n",
    "!pip install chainlit"
   ]
  },
  {
   "cell_type": "code",
   "execution_count": 115,
   "id": "ab380932-5994-4e01-924c-918201e7041e",
   "metadata": {},
   "outputs": [
    {
     "name": "stdout",
     "output_type": "stream",
     "text": [
      "2025-01-29 13:42:29 - Loaded .env file\n",
      "2025-01-29 13:42:34 - Your app is available at http://localhost:8000\n"
     ]
    },
    {
     "name": "stderr",
     "output_type": "stream",
     "text": [
      "ERROR:    [Errno 10048] error while attempting to bind on address ('127.0.0.1', 8000): [winerror 10048] only one usage of each socket address (protocol/network address/port) is normally permitted\n",
      "WARNING: All log messages before absl::InitializeLog() is called are written to STDERR\n",
      "E0000 00:00:1738186957.614793    2632 init.cc:232] grpc_wait_for_shutdown_with_timeout() timed out.\n"
     ]
    }
   ],
   "source": [
    "!chainlit hello"
   ]
  },
  {
   "cell_type": "code",
   "execution_count": 116,
   "id": "819050fa-b552-4ec2-bd81-a110b8e8d48a",
   "metadata": {},
   "outputs": [],
   "source": [
    "import langchain"
   ]
  },
  {
   "cell_type": "code",
   "execution_count": 117,
   "id": "31767624-889c-49ae-afc1-8d6d89ebe0c6",
   "metadata": {},
   "outputs": [],
   "source": [
    "import os"
   ]
  },
  {
   "cell_type": "code",
   "execution_count": 26,
   "id": "3ee0c68b-eb38-46d0-9a11-9385fec101b7",
   "metadata": {},
   "outputs": [
    {
     "name": "stdout",
     "output_type": "stream",
     "text": [
      " ········\n"
     ]
    }
   ],
   "source": [
    "from getpass import getpass\n",
    "HUGGINFACEHUB_API_TOKEN=getpass()\n",
    "os.environ['HUGGINFACEHUB_API_TOKEN']=HUGGINFACEHUB_API_TOKEN"
   ]
  },
  {
   "cell_type": "code",
   "execution_count": 28,
   "id": "89fb15b9-9d7f-4a9f-88c9-b48142870423",
   "metadata": {},
   "outputs": [
    {
     "name": "stdout",
     "output_type": "stream",
     "text": [
      "Requirement already satisfied: langchain_community in c:\\users\\kruth\\anaconda3\\lib\\site-packages (0.3.16)\n",
      "Requirement already satisfied: PyYAML>=5.3 in c:\\users\\kruth\\anaconda3\\lib\\site-packages (from langchain_community) (6.0.1)\n",
      "Requirement already satisfied: SQLAlchemy<3,>=1.4 in c:\\users\\kruth\\anaconda3\\lib\\site-packages (from langchain_community) (2.0.34)\n",
      "Requirement already satisfied: aiohttp<4.0.0,>=3.8.3 in c:\\users\\kruth\\anaconda3\\lib\\site-packages (from langchain_community) (3.10.5)\n",
      "Requirement already satisfied: dataclasses-json<0.7,>=0.5.7 in c:\\users\\kruth\\anaconda3\\lib\\site-packages (from langchain_community) (0.6.7)\n",
      "Requirement already satisfied: httpx-sse<0.5.0,>=0.4.0 in c:\\users\\kruth\\anaconda3\\lib\\site-packages (from langchain_community) (0.4.0)\n",
      "Requirement already satisfied: langchain<0.4.0,>=0.3.16 in c:\\users\\kruth\\anaconda3\\lib\\site-packages (from langchain_community) (0.3.16)\n",
      "Requirement already satisfied: langchain-core<0.4.0,>=0.3.32 in c:\\users\\kruth\\anaconda3\\lib\\site-packages (from langchain_community) (0.3.32)\n",
      "Requirement already satisfied: langsmith<0.4,>=0.1.125 in c:\\users\\kruth\\anaconda3\\lib\\site-packages (from langchain_community) (0.3.2)\n",
      "Requirement already satisfied: numpy<3,>=1.26.2 in c:\\users\\kruth\\anaconda3\\lib\\site-packages (from langchain_community) (1.26.4)\n",
      "Requirement already satisfied: pydantic-settings<3.0.0,>=2.4.0 in c:\\users\\kruth\\anaconda3\\lib\\site-packages (from langchain_community) (2.7.1)\n",
      "Requirement already satisfied: requests<3,>=2 in c:\\users\\kruth\\anaconda3\\lib\\site-packages (from langchain_community) (2.32.3)\n",
      "Requirement already satisfied: tenacity!=8.4.0,<10,>=8.1.0 in c:\\users\\kruth\\anaconda3\\lib\\site-packages (from langchain_community) (8.2.3)\n",
      "Requirement already satisfied: aiohappyeyeballs>=2.3.0 in c:\\users\\kruth\\anaconda3\\lib\\site-packages (from aiohttp<4.0.0,>=3.8.3->langchain_community) (2.4.0)\n",
      "Requirement already satisfied: aiosignal>=1.1.2 in c:\\users\\kruth\\anaconda3\\lib\\site-packages (from aiohttp<4.0.0,>=3.8.3->langchain_community) (1.2.0)\n",
      "Requirement already satisfied: attrs>=17.3.0 in c:\\users\\kruth\\anaconda3\\lib\\site-packages (from aiohttp<4.0.0,>=3.8.3->langchain_community) (23.1.0)\n",
      "Requirement already satisfied: frozenlist>=1.1.1 in c:\\users\\kruth\\anaconda3\\lib\\site-packages (from aiohttp<4.0.0,>=3.8.3->langchain_community) (1.4.0)\n",
      "Requirement already satisfied: multidict<7.0,>=4.5 in c:\\users\\kruth\\anaconda3\\lib\\site-packages (from aiohttp<4.0.0,>=3.8.3->langchain_community) (6.0.4)\n",
      "Requirement already satisfied: yarl<2.0,>=1.0 in c:\\users\\kruth\\anaconda3\\lib\\site-packages (from aiohttp<4.0.0,>=3.8.3->langchain_community) (1.11.0)\n",
      "Requirement already satisfied: marshmallow<4.0.0,>=3.18.0 in c:\\users\\kruth\\anaconda3\\lib\\site-packages (from dataclasses-json<0.7,>=0.5.7->langchain_community) (3.26.0)\n",
      "Requirement already satisfied: typing-inspect<1,>=0.4.0 in c:\\users\\kruth\\anaconda3\\lib\\site-packages (from dataclasses-json<0.7,>=0.5.7->langchain_community) (0.9.0)\n",
      "Requirement already satisfied: langchain-text-splitters<0.4.0,>=0.3.3 in c:\\users\\kruth\\anaconda3\\lib\\site-packages (from langchain<0.4.0,>=0.3.16->langchain_community) (0.3.5)\n",
      "Requirement already satisfied: pydantic<3.0.0,>=2.7.4 in c:\\users\\kruth\\anaconda3\\lib\\site-packages (from langchain<0.4.0,>=0.3.16->langchain_community) (2.8.2)\n",
      "Requirement already satisfied: jsonpatch<2.0,>=1.33 in c:\\users\\kruth\\anaconda3\\lib\\site-packages (from langchain-core<0.4.0,>=0.3.32->langchain_community) (1.33)\n",
      "Requirement already satisfied: packaging<25,>=23.2 in c:\\users\\kruth\\anaconda3\\lib\\site-packages (from langchain-core<0.4.0,>=0.3.32->langchain_community) (24.1)\n",
      "Requirement already satisfied: typing-extensions>=4.7 in c:\\users\\kruth\\anaconda3\\lib\\site-packages (from langchain-core<0.4.0,>=0.3.32->langchain_community) (4.11.0)\n",
      "Requirement already satisfied: httpx<1,>=0.23.0 in c:\\users\\kruth\\anaconda3\\lib\\site-packages (from langsmith<0.4,>=0.1.125->langchain_community) (0.27.0)\n",
      "Requirement already satisfied: orjson<4.0.0,>=3.9.14 in c:\\users\\kruth\\anaconda3\\lib\\site-packages (from langsmith<0.4,>=0.1.125->langchain_community) (3.10.15)\n",
      "Requirement already satisfied: requests-toolbelt<2.0.0,>=1.0.0 in c:\\users\\kruth\\anaconda3\\lib\\site-packages (from langsmith<0.4,>=0.1.125->langchain_community) (1.0.0)\n",
      "Requirement already satisfied: zstandard<0.24.0,>=0.23.0 in c:\\users\\kruth\\anaconda3\\lib\\site-packages (from langsmith<0.4,>=0.1.125->langchain_community) (0.23.0)\n",
      "Requirement already satisfied: python-dotenv>=0.21.0 in c:\\users\\kruth\\anaconda3\\lib\\site-packages (from pydantic-settings<3.0.0,>=2.4.0->langchain_community) (1.0.1)\n",
      "Requirement already satisfied: charset-normalizer<4,>=2 in c:\\users\\kruth\\anaconda3\\lib\\site-packages (from requests<3,>=2->langchain_community) (3.3.2)\n",
      "Requirement already satisfied: idna<4,>=2.5 in c:\\users\\kruth\\anaconda3\\lib\\site-packages (from requests<3,>=2->langchain_community) (3.7)\n",
      "Requirement already satisfied: urllib3<3,>=1.21.1 in c:\\users\\kruth\\anaconda3\\lib\\site-packages (from requests<3,>=2->langchain_community) (2.2.3)\n",
      "Requirement already satisfied: certifi>=2017.4.17 in c:\\users\\kruth\\anaconda3\\lib\\site-packages (from requests<3,>=2->langchain_community) (2024.8.30)\n",
      "Requirement already satisfied: greenlet!=0.4.17 in c:\\users\\kruth\\anaconda3\\lib\\site-packages (from SQLAlchemy<3,>=1.4->langchain_community) (3.0.1)\n",
      "Requirement already satisfied: anyio in c:\\users\\kruth\\anaconda3\\lib\\site-packages (from httpx<1,>=0.23.0->langsmith<0.4,>=0.1.125->langchain_community) (4.2.0)\n",
      "Requirement already satisfied: httpcore==1.* in c:\\users\\kruth\\anaconda3\\lib\\site-packages (from httpx<1,>=0.23.0->langsmith<0.4,>=0.1.125->langchain_community) (1.0.2)\n",
      "Requirement already satisfied: sniffio in c:\\users\\kruth\\anaconda3\\lib\\site-packages (from httpx<1,>=0.23.0->langsmith<0.4,>=0.1.125->langchain_community) (1.3.0)\n",
      "Requirement already satisfied: h11<0.15,>=0.13 in c:\\users\\kruth\\anaconda3\\lib\\site-packages (from httpcore==1.*->httpx<1,>=0.23.0->langsmith<0.4,>=0.1.125->langchain_community) (0.14.0)\n",
      "Requirement already satisfied: jsonpointer>=1.9 in c:\\users\\kruth\\anaconda3\\lib\\site-packages (from jsonpatch<2.0,>=1.33->langchain-core<0.4.0,>=0.3.32->langchain_community) (2.1)\n",
      "Requirement already satisfied: annotated-types>=0.4.0 in c:\\users\\kruth\\anaconda3\\lib\\site-packages (from pydantic<3.0.0,>=2.7.4->langchain<0.4.0,>=0.3.16->langchain_community) (0.6.0)\n",
      "Requirement already satisfied: pydantic-core==2.20.1 in c:\\users\\kruth\\anaconda3\\lib\\site-packages (from pydantic<3.0.0,>=2.7.4->langchain<0.4.0,>=0.3.16->langchain_community) (2.20.1)\n",
      "Requirement already satisfied: mypy-extensions>=0.3.0 in c:\\users\\kruth\\anaconda3\\lib\\site-packages (from typing-inspect<1,>=0.4.0->dataclasses-json<0.7,>=0.5.7->langchain_community) (1.0.0)\n",
      "Note: you may need to restart the kernel to use updated packages.\n"
     ]
    }
   ],
   "source": [
    "pip install langchain_community\n"
   ]
  },
  {
   "cell_type": "code",
   "execution_count": 30,
   "id": "5b5299b5-c414-4429-b249-a29a8b8692fa",
   "metadata": {},
   "outputs": [
    {
     "name": "stdout",
     "output_type": "stream",
     "text": [
      "2025-01-31 10:08:05 - Loaded .env file\n"
     ]
    }
   ],
   "source": [
    "import chainlit as cl\n",
    "from langchain.llms import HuggingFaceHub\n",
    "from langchain.prompts import PromptTemplate\n",
    "from langchain_core.prompts import PromptTemplate\n",
    "from langchain.chains import LLMChain\n",
    "from langchain_huggingface import HuggingFaceEndpoint \n"
   ]
  },
  {
   "cell_type": "code",
   "execution_count": 1,
   "id": "99974be4-ed17-4b51-b4dd-452229517194",
   "metadata": {},
   "outputs": [
    {
     "ename": "NameError",
     "evalue": "name 'HuggingFaceHub' is not defined",
     "output_type": "error",
     "traceback": [
      "\u001b[1;31m---------------------------------------------------------------------------\u001b[0m",
      "\u001b[1;31mNameError\u001b[0m                                 Traceback (most recent call last)",
      "Cell \u001b[1;32mIn[1], line 3\u001b[0m\n\u001b[0;32m      1\u001b[0m \u001b[38;5;66;03m#setting conversational model\u001b[39;00m\n\u001b[0;32m      2\u001b[0m model_id\u001b[38;5;241m=\u001b[39m\u001b[38;5;124m\"\u001b[39m\u001b[38;5;124mgpt2-medium\u001b[39m\u001b[38;5;124m\"\u001b[39m\n\u001b[1;32m----> 3\u001b[0m conv_model\u001b[38;5;241m=\u001b[39mHuggingFaceHub(huggingfacehub_api_token\u001b[38;5;241m=\u001b[39mos\u001b[38;5;241m.\u001b[39menviron[\u001b[38;5;124m'\u001b[39m\u001b[38;5;124mHUGGINGFACEHUB_API_TOKEN\u001b[39m\u001b[38;5;124m'\u001b[39m],\n\u001b[0;32m      4\u001b[0m                          repo_id\u001b[38;5;241m=\u001b[39mmodel_id,\n\u001b[0;32m      5\u001b[0m                          model_kwargs\u001b[38;5;241m=\u001b[39m{\u001b[38;5;124m\"\u001b[39m\u001b[38;5;124mtemperature\u001b[39m\u001b[38;5;124m\"\u001b[39m:\u001b[38;5;241m0.6\u001b[39m,\u001b[38;5;124m\"\u001b[39m\u001b[38;5;124mmax_new_tokens\u001b[39m\u001b[38;5;124m\"\u001b[39m:\u001b[38;5;241m200\u001b[39m})\n",
      "\u001b[1;31mNameError\u001b[0m: name 'HuggingFaceHub' is not defined"
     ]
    }
   ],
   "source": [
    "#setting conversational model\n",
    "model_id=\"gpt2-medium\"\n",
    "conv_model=HuggingFaceHub(huggingfacehub_api_token=os.environ['HUGGINGFACEHUB_API_TOKEN'],\n",
    "                         repo_id=model_id,\n",
    "                         model_kwargs={\"temperature\":0.6,\"max_new_tokens\":200})\n"
   ]
  },
  {
   "cell_type": "code",
   "execution_count": 4,
   "id": "c5eb0c29-c032-469e-80fe-69e91cb34c2e",
   "metadata": {},
   "outputs": [
    {
     "name": "stdout",
     "output_type": "stream",
     "text": [
      "C:\\Users\\kruth\\AI\n"
     ]
    }
   ],
   "source": [
    "import os\n",
    "print(os.getcwd())"
   ]
  },
  {
   "cell_type": "code",
   "execution_count": 79,
   "id": "2a1f640c-f6b9-42bc-b90f-2c6a4b68873b",
   "metadata": {},
   "outputs": [
    {
     "name": "stdout",
     "output_type": "stream",
     "text": [
      "Collecting langchain-huggingface\n",
      "  Downloading langchain_huggingface-0.1.2-py3-none-any.whl.metadata (1.3 kB)\n",
      "Requirement already satisfied: huggingface-hub>=0.23.0 in c:\\users\\kruth\\anaconda3\\lib\\site-packages (from langchain-huggingface) (0.27.1)\n",
      "Requirement already satisfied: langchain-core<0.4.0,>=0.3.15 in c:\\users\\kruth\\anaconda3\\lib\\site-packages (from langchain-huggingface) (0.3.32)\n",
      "Collecting sentence-transformers>=2.6.0 (from langchain-huggingface)\n",
      "  Downloading sentence_transformers-3.4.1-py3-none-any.whl.metadata (10 kB)\n",
      "Requirement already satisfied: tokenizers>=0.19.1 in c:\\users\\kruth\\anaconda3\\lib\\site-packages (from langchain-huggingface) (0.21.0)\n",
      "Requirement already satisfied: transformers>=4.39.0 in c:\\users\\kruth\\anaconda3\\lib\\site-packages (from langchain-huggingface) (4.48.1)\n",
      "Requirement already satisfied: filelock in c:\\users\\kruth\\anaconda3\\lib\\site-packages (from huggingface-hub>=0.23.0->langchain-huggingface) (3.13.1)\n",
      "Requirement already satisfied: fsspec>=2023.5.0 in c:\\users\\kruth\\anaconda3\\lib\\site-packages (from huggingface-hub>=0.23.0->langchain-huggingface) (2024.6.1)\n",
      "Requirement already satisfied: packaging>=20.9 in c:\\users\\kruth\\anaconda3\\lib\\site-packages (from huggingface-hub>=0.23.0->langchain-huggingface) (24.1)\n",
      "Requirement already satisfied: pyyaml>=5.1 in c:\\users\\kruth\\anaconda3\\lib\\site-packages (from huggingface-hub>=0.23.0->langchain-huggingface) (6.0.1)\n",
      "Requirement already satisfied: requests in c:\\users\\kruth\\anaconda3\\lib\\site-packages (from huggingface-hub>=0.23.0->langchain-huggingface) (2.32.3)\n",
      "Requirement already satisfied: tqdm>=4.42.1 in c:\\users\\kruth\\anaconda3\\lib\\site-packages (from huggingface-hub>=0.23.0->langchain-huggingface) (4.66.5)\n",
      "Requirement already satisfied: typing-extensions>=3.7.4.3 in c:\\users\\kruth\\anaconda3\\lib\\site-packages (from huggingface-hub>=0.23.0->langchain-huggingface) (4.11.0)\n",
      "Requirement already satisfied: jsonpatch<2.0,>=1.33 in c:\\users\\kruth\\anaconda3\\lib\\site-packages (from langchain-core<0.4.0,>=0.3.15->langchain-huggingface) (1.33)\n",
      "Requirement already satisfied: langsmith<0.4,>=0.1.125 in c:\\users\\kruth\\anaconda3\\lib\\site-packages (from langchain-core<0.4.0,>=0.3.15->langchain-huggingface) (0.3.2)\n",
      "Requirement already satisfied: pydantic<3.0.0,>=2.7.4 in c:\\users\\kruth\\anaconda3\\lib\\site-packages (from langchain-core<0.4.0,>=0.3.15->langchain-huggingface) (2.8.2)\n",
      "Requirement already satisfied: tenacity!=8.4.0,<10.0.0,>=8.1.0 in c:\\users\\kruth\\anaconda3\\lib\\site-packages (from langchain-core<0.4.0,>=0.3.15->langchain-huggingface) (8.2.3)\n",
      "Requirement already satisfied: torch>=1.11.0 in c:\\users\\kruth\\anaconda3\\lib\\site-packages (from sentence-transformers>=2.6.0->langchain-huggingface) (2.5.1)\n",
      "Requirement already satisfied: scikit-learn in c:\\users\\kruth\\anaconda3\\lib\\site-packages (from sentence-transformers>=2.6.0->langchain-huggingface) (1.5.1)\n",
      "Requirement already satisfied: scipy in c:\\users\\kruth\\anaconda3\\lib\\site-packages (from sentence-transformers>=2.6.0->langchain-huggingface) (1.13.1)\n",
      "Requirement already satisfied: Pillow in c:\\users\\kruth\\anaconda3\\lib\\site-packages (from sentence-transformers>=2.6.0->langchain-huggingface) (10.4.0)\n",
      "Requirement already satisfied: numpy>=1.17 in c:\\users\\kruth\\anaconda3\\lib\\site-packages (from transformers>=4.39.0->langchain-huggingface) (1.26.4)\n",
      "Requirement already satisfied: regex!=2019.12.17 in c:\\users\\kruth\\anaconda3\\lib\\site-packages (from transformers>=4.39.0->langchain-huggingface) (2024.9.11)\n",
      "Requirement already satisfied: safetensors>=0.4.1 in c:\\users\\kruth\\anaconda3\\lib\\site-packages (from transformers>=4.39.0->langchain-huggingface) (0.5.2)\n",
      "Requirement already satisfied: jsonpointer>=1.9 in c:\\users\\kruth\\anaconda3\\lib\\site-packages (from jsonpatch<2.0,>=1.33->langchain-core<0.4.0,>=0.3.15->langchain-huggingface) (2.1)\n",
      "Requirement already satisfied: httpx<1,>=0.23.0 in c:\\users\\kruth\\anaconda3\\lib\\site-packages (from langsmith<0.4,>=0.1.125->langchain-core<0.4.0,>=0.3.15->langchain-huggingface) (0.27.0)\n",
      "Requirement already satisfied: orjson<4.0.0,>=3.9.14 in c:\\users\\kruth\\anaconda3\\lib\\site-packages (from langsmith<0.4,>=0.1.125->langchain-core<0.4.0,>=0.3.15->langchain-huggingface) (3.10.15)\n",
      "Requirement already satisfied: requests-toolbelt<2.0.0,>=1.0.0 in c:\\users\\kruth\\anaconda3\\lib\\site-packages (from langsmith<0.4,>=0.1.125->langchain-core<0.4.0,>=0.3.15->langchain-huggingface) (1.0.0)\n",
      "Requirement already satisfied: zstandard<0.24.0,>=0.23.0 in c:\\users\\kruth\\anaconda3\\lib\\site-packages (from langsmith<0.4,>=0.1.125->langchain-core<0.4.0,>=0.3.15->langchain-huggingface) (0.23.0)\n",
      "Requirement already satisfied: annotated-types>=0.4.0 in c:\\users\\kruth\\anaconda3\\lib\\site-packages (from pydantic<3.0.0,>=2.7.4->langchain-core<0.4.0,>=0.3.15->langchain-huggingface) (0.6.0)\n",
      "Requirement already satisfied: pydantic-core==2.20.1 in c:\\users\\kruth\\anaconda3\\lib\\site-packages (from pydantic<3.0.0,>=2.7.4->langchain-core<0.4.0,>=0.3.15->langchain-huggingface) (2.20.1)\n",
      "Requirement already satisfied: charset-normalizer<4,>=2 in c:\\users\\kruth\\anaconda3\\lib\\site-packages (from requests->huggingface-hub>=0.23.0->langchain-huggingface) (3.3.2)\n",
      "Requirement already satisfied: idna<4,>=2.5 in c:\\users\\kruth\\anaconda3\\lib\\site-packages (from requests->huggingface-hub>=0.23.0->langchain-huggingface) (3.7)\n",
      "Requirement already satisfied: urllib3<3,>=1.21.1 in c:\\users\\kruth\\anaconda3\\lib\\site-packages (from requests->huggingface-hub>=0.23.0->langchain-huggingface) (2.2.3)\n",
      "Requirement already satisfied: certifi>=2017.4.17 in c:\\users\\kruth\\anaconda3\\lib\\site-packages (from requests->huggingface-hub>=0.23.0->langchain-huggingface) (2024.8.30)\n",
      "Requirement already satisfied: networkx in c:\\users\\kruth\\anaconda3\\lib\\site-packages (from torch>=1.11.0->sentence-transformers>=2.6.0->langchain-huggingface) (3.3)\n",
      "Requirement already satisfied: jinja2 in c:\\users\\kruth\\anaconda3\\lib\\site-packages (from torch>=1.11.0->sentence-transformers>=2.6.0->langchain-huggingface) (3.1.4)\n",
      "Requirement already satisfied: setuptools in c:\\users\\kruth\\anaconda3\\lib\\site-packages (from torch>=1.11.0->sentence-transformers>=2.6.0->langchain-huggingface) (75.1.0)\n",
      "Requirement already satisfied: sympy==1.13.1 in c:\\users\\kruth\\anaconda3\\lib\\site-packages (from torch>=1.11.0->sentence-transformers>=2.6.0->langchain-huggingface) (1.13.1)\n",
      "Requirement already satisfied: mpmath<1.4,>=1.1.0 in c:\\users\\kruth\\anaconda3\\lib\\site-packages (from sympy==1.13.1->torch>=1.11.0->sentence-transformers>=2.6.0->langchain-huggingface) (1.3.0)\n",
      "Requirement already satisfied: colorama in c:\\users\\kruth\\anaconda3\\lib\\site-packages (from tqdm>=4.42.1->huggingface-hub>=0.23.0->langchain-huggingface) (0.4.6)\n",
      "Requirement already satisfied: joblib>=1.2.0 in c:\\users\\kruth\\anaconda3\\lib\\site-packages (from scikit-learn->sentence-transformers>=2.6.0->langchain-huggingface) (1.4.2)\n",
      "Requirement already satisfied: threadpoolctl>=3.1.0 in c:\\users\\kruth\\anaconda3\\lib\\site-packages (from scikit-learn->sentence-transformers>=2.6.0->langchain-huggingface) (3.5.0)\n",
      "Requirement already satisfied: anyio in c:\\users\\kruth\\anaconda3\\lib\\site-packages (from httpx<1,>=0.23.0->langsmith<0.4,>=0.1.125->langchain-core<0.4.0,>=0.3.15->langchain-huggingface) (4.2.0)\n",
      "Requirement already satisfied: httpcore==1.* in c:\\users\\kruth\\anaconda3\\lib\\site-packages (from httpx<1,>=0.23.0->langsmith<0.4,>=0.1.125->langchain-core<0.4.0,>=0.3.15->langchain-huggingface) (1.0.2)\n",
      "Requirement already satisfied: sniffio in c:\\users\\kruth\\anaconda3\\lib\\site-packages (from httpx<1,>=0.23.0->langsmith<0.4,>=0.1.125->langchain-core<0.4.0,>=0.3.15->langchain-huggingface) (1.3.0)\n",
      "Requirement already satisfied: h11<0.15,>=0.13 in c:\\users\\kruth\\anaconda3\\lib\\site-packages (from httpcore==1.*->httpx<1,>=0.23.0->langsmith<0.4,>=0.1.125->langchain-core<0.4.0,>=0.3.15->langchain-huggingface) (0.14.0)\n",
      "Requirement already satisfied: MarkupSafe>=2.0 in c:\\users\\kruth\\anaconda3\\lib\\site-packages (from jinja2->torch>=1.11.0->sentence-transformers>=2.6.0->langchain-huggingface) (2.1.3)\n",
      "Downloading langchain_huggingface-0.1.2-py3-none-any.whl (21 kB)\n",
      "Downloading sentence_transformers-3.4.1-py3-none-any.whl (275 kB)\n",
      "Installing collected packages: sentence-transformers, langchain-huggingface\n",
      "Successfully installed langchain-huggingface-0.1.2 sentence-transformers-3.4.1\n"
     ]
    }
   ],
   "source": [
    "!pip install langchain-huggingface"
   ]
  },
  {
   "cell_type": "code",
   "execution_count": 12,
   "id": "f59510e6-6b8f-4135-a13e-41e4b3be9c3c",
   "metadata": {},
   "outputs": [
    {
     "name": "stdout",
     "output_type": "stream",
     "text": [
      "None\n"
     ]
    }
   ],
   "source": [
    "print(os.environ.get('HUGGINGFACEHUB_API_TOKEN'))"
   ]
  },
  {
   "cell_type": "code",
   "execution_count": 56,
   "id": "d06a17a1-3226-4f7d-ae3b-e0407f9ef64f",
   "metadata": {},
   "outputs": [
    {
     "name": "stdout",
     "output_type": "stream",
     "text": [
      "Token exists: True\n"
     ]
    }
   ],
   "source": [
    "import os\n",
    "print(\"Token exists:\", 'HUGGINGFACEHUB_API_TOKEN' in os.environ)\n",
    "# Don't print the actual token for security reasons"
   ]
  },
  {
   "cell_type": "code",
   "execution_count": 60,
   "id": "1ee65f64-6a65-4cb1-b70a-439798a05e01",
   "metadata": {},
   "outputs": [
    {
     "name": "stdout",
     "output_type": "stream",
     "text": [
      "Token loaded: True\n"
     ]
    }
   ],
   "source": [
    "from dotenv import load_dotenv\n",
    "import os\n",
    "\n",
    "load_dotenv()\n",
    "token = os.environ.get('HUGGINGFACEHUB_API_TOKEN')\n",
    "print(\"Token loaded:\", bool(token))  # Should print True if token exists"
   ]
  },
  {
   "cell_type": "code",
   "execution_count": 62,
   "id": "f4f13ffc-d3f7-43a5-bf90-6d883a02c848",
   "metadata": {},
   "outputs": [],
   "source": [
    "import os\n",
    "from dotenv import load_dotenv\n",
    "from langchain_huggingface import HuggingFaceEndpoint  # Updated import\n",
    "\n",
    "load_dotenv()\n",
    "\n",
    "model_id = \"gpt2-medium\"\n",
    "conv_model = HuggingFaceEndpoint(\n",
    "    huggingfacehub_api_token=os.environ['HUGGINGFACEHUB_API_TOKEN'],  # Note this parameter name\n",
    "    repo_id=model_id,\n",
    "    temperature=0.9,\n",
    "    max_new_tokens=400\n",
    ")"
   ]
  },
  {
   "cell_type": "code",
   "execution_count": 64,
   "id": "3d55849b-91db-4058-aa68-788ecb28d1a9",
   "metadata": {},
   "outputs": [],
   "source": [
    "template= \"\"\"You are a helpful AI assistant that makes stories  by completing the query provided by the user\n",
    "{query}\n",
    "\"\"\"\n",
    "\n",
    "prompt=PromptTemplate(template=template, input_variables=['query'])"
   ]
  },
  {
   "cell_type": "code",
   "execution_count": 66,
   "id": "d4afa8e0-0c9d-46df-8666-1b29df9c0eef",
   "metadata": {},
   "outputs": [
    {
     "name": "stdout",
     "output_type": "stream",
     "text": [
      "\n",
      "\n",
      "\u001b[1m> Entering new LLMChain chain...\u001b[0m\n",
      "Prompt after formatting:\n",
      "\u001b[32;1m\u001b[1;3mYou are a helpful AI assistant that makes stories  by completing the query provided by the user\n",
      "Hello, all\n",
      "\u001b[0m\n",
      "\n",
      "\u001b[1m> Finished chain.\u001b[0m\n",
      "I was wondering if you would be interested in joining us at the SliceSubmissionArt event in London.\n",
      "We will be presenting our web and mobile application  SliceSubmissionArt , a 'how-to' manual for creating the virtual-reality journey that gets sent to your phone via Wi-Fi, which you can view for free on your smartphone.\n",
      "I will be presenting a demo of this site from 3pm to 5pm on Saturday 28 September 2015 and will also be discussing the application at the panel \"Live Your Creative Dreams\" from 5:30pm to 6pm on Sunday 29 September 2015. \n",
      "We hope to see you there and may God bless you with your next slice submission!\n",
      "The Slice Submission Art team\n"
     ]
    }
   ],
   "source": [
    "conv_chain=LLMChain(llm=conv_model,\n",
    "                    prompt=prompt,\n",
    "                    verbose=True)\n",
    "\n",
    "print(conv_chain.run({\"query\": \"Hello,\"}))\n",
    "#print(response)"
   ]
  },
  {
   "cell_type": "code",
   "execution_count": null,
   "id": "75641773-bfc1-45f6-a2e7-2a73cd44b1f6",
   "metadata": {},
   "outputs": [],
   "source": []
  }
 ],
 "metadata": {
  "kernelspec": {
   "display_name": "Python 3 (ipykernel)",
   "language": "python",
   "name": "python3"
  },
  "language_info": {
   "codemirror_mode": {
    "name": "ipython",
    "version": 3
   },
   "file_extension": ".py",
   "mimetype": "text/x-python",
   "name": "python",
   "nbconvert_exporter": "python",
   "pygments_lexer": "ipython3",
   "version": "3.12.7"
  }
 },
 "nbformat": 4,
 "nbformat_minor": 5
}
